{
  "nbformat": 4,
  "nbformat_minor": 0,
  "metadata": {
    "colab": {
      "name": "FanDuel_Horse_Racing_Promo.ipynb",
      "provenance": [],
      "authorship_tag": "ABX9TyNuxszuV0IEsPvOBBoP560S",
      "include_colab_link": true
    },
    "kernelspec": {
      "name": "python3",
      "display_name": "Python 3"
    }
  },
  "cells": [
    {
      "cell_type": "markdown",
      "metadata": {
        "id": "view-in-github",
        "colab_type": "text"
      },
      "source": [
        "<a href=\"https://colab.research.google.com/github/TravisJRCain/FanDuel-Horse-Racing-Promo/blob/main/FanDuel_Horse_Racing_Promo.ipynb\" target=\"_parent\"><img src=\"https://colab.research.google.com/assets/colab-badge.svg\" alt=\"Open In Colab\"/></a>"
      ]
    },
    {
      "cell_type": "code",
      "metadata": {
        "id": "MrUKzsr-ybAB"
      },
      "source": [
        "# import various libraries for data cleaning, data wrangling and visualizations\n",
        "\n",
        "import pandas as pd\n",
        "import numpy as np\n",
        "import matplotlib.pyplot as plt\n",
        "import csv\n",
        "import datetime\n",
        "from scipy import stats"
      ],
      "execution_count": 1,
      "outputs": []
    },
    {
      "cell_type": "code",
      "metadata": {
        "id": "FqNgYQxNeAAb"
      },
      "source": [
        "# accountid = the id number of the user's account\n",
        "# (activity) date = when the user was active on their account\n",
        "# handle = amount wagered on bet\n",
        "# grossrevenue = revenue generated per bet (the revenue generated for FanDuel or\n",
        "  # the user?)\n",
        "# last_12months_segment = activity level of user from the past 12 months\n",
        "  # what does 'ka' and 'regnodep' mean?\n",
        "  # 'ka' = VIP?\n",
        "# target/cg = target or control group (i.e. who had the promo or not)\n",
        "# bonus = bonus was awarded just once for each customer \n",
        "  # (i.e. VIP got $50, High Value $20, Medium Value $10 and Low Value $5)"
      ],
      "execution_count": 2,
      "outputs": []
    },
    {
      "cell_type": "code",
      "metadata": {
        "id": "PqHZZBB2mo8K"
      },
      "source": [
        "# have to see if there was an increase in gross revenue from this promo\n",
        "# - possible solutions to the hypothesis:\n",
        "    # - compare gross revenue with target and control group\n",
        "    # - see if there is a sizable difference between target/cg gross revenue\n",
        "    # - compare bonuses with gross revenue\n",
        "    # - etc.?"
      ],
      "execution_count": 3,
      "outputs": []
    },
    {
      "cell_type": "code",
      "metadata": {
        "id": "l9JiSDLFyz6e",
        "outputId": "1e3482cc-99ac-4bc6-f92b-ceaa1908fe6d",
        "colab": {
          "base_uri": "https://localhost:8080/",
          "height": 347
        }
      },
      "source": [
        "# importing data into notebook\n",
        "\n",
        "df = pd.read_csv('/content/Business_case_Racing.csv')\n",
        "df.head(10)"
      ],
      "execution_count": 54,
      "outputs": [
        {
          "output_type": "execute_result",
          "data": {
            "text/html": [
              "<div>\n",
              "<style scoped>\n",
              "    .dataframe tbody tr th:only-of-type {\n",
              "        vertical-align: middle;\n",
              "    }\n",
              "\n",
              "    .dataframe tbody tr th {\n",
              "        vertical-align: top;\n",
              "    }\n",
              "\n",
              "    .dataframe thead th {\n",
              "        text-align: right;\n",
              "    }\n",
              "</style>\n",
              "<table border=\"1\" class=\"dataframe\">\n",
              "  <thead>\n",
              "    <tr style=\"text-align: right;\">\n",
              "      <th></th>\n",
              "      <th>accountid</th>\n",
              "      <th>date</th>\n",
              "      <th>handle</th>\n",
              "      <th>grossrevenue</th>\n",
              "      <th>last_12months_segment</th>\n",
              "      <th>Target/CG</th>\n",
              "      <th>bonus</th>\n",
              "    </tr>\n",
              "  </thead>\n",
              "  <tbody>\n",
              "    <tr>\n",
              "      <th>0</th>\n",
              "      <td>1230877</td>\n",
              "      <td>11/24/2019</td>\n",
              "      <td>1104750.0</td>\n",
              "      <td>-49000.0</td>\n",
              "      <td>high</td>\n",
              "      <td>Target</td>\n",
              "      <td>20</td>\n",
              "    </tr>\n",
              "    <tr>\n",
              "      <th>1</th>\n",
              "      <td>1230877</td>\n",
              "      <td>11/26/2019</td>\n",
              "      <td>596214.0</td>\n",
              "      <td>-30336.0</td>\n",
              "      <td>high</td>\n",
              "      <td>Target</td>\n",
              "      <td>20</td>\n",
              "    </tr>\n",
              "    <tr>\n",
              "      <th>2</th>\n",
              "      <td>1230877</td>\n",
              "      <td>11/13/2019</td>\n",
              "      <td>465250.0</td>\n",
              "      <td>-36000.0</td>\n",
              "      <td>high</td>\n",
              "      <td>Target</td>\n",
              "      <td>20</td>\n",
              "    </tr>\n",
              "    <tr>\n",
              "      <th>3</th>\n",
              "      <td>1230877</td>\n",
              "      <td>11/1/2019</td>\n",
              "      <td>437800.0</td>\n",
              "      <td>-20000.0</td>\n",
              "      <td>high</td>\n",
              "      <td>Target</td>\n",
              "      <td>20</td>\n",
              "    </tr>\n",
              "    <tr>\n",
              "      <th>4</th>\n",
              "      <td>1276799</td>\n",
              "      <td>2/24/2019</td>\n",
              "      <td>435275.0</td>\n",
              "      <td>69825.0</td>\n",
              "      <td>ka</td>\n",
              "      <td>Target</td>\n",
              "      <td>50</td>\n",
              "    </tr>\n",
              "    <tr>\n",
              "      <th>5</th>\n",
              "      <td>1230877</td>\n",
              "      <td>11/14/2019</td>\n",
              "      <td>355835.0</td>\n",
              "      <td>18335.0</td>\n",
              "      <td>high</td>\n",
              "      <td>Target</td>\n",
              "      <td>20</td>\n",
              "    </tr>\n",
              "    <tr>\n",
              "      <th>6</th>\n",
              "      <td>1230877</td>\n",
              "      <td>11/25/2019</td>\n",
              "      <td>347612.0</td>\n",
              "      <td>-22812.0</td>\n",
              "      <td>high</td>\n",
              "      <td>Target</td>\n",
              "      <td>20</td>\n",
              "    </tr>\n",
              "    <tr>\n",
              "      <th>7</th>\n",
              "      <td>1230877</td>\n",
              "      <td>10/14/2019</td>\n",
              "      <td>322050.0</td>\n",
              "      <td>19500.0</td>\n",
              "      <td>high</td>\n",
              "      <td>Target</td>\n",
              "      <td>20</td>\n",
              "    </tr>\n",
              "    <tr>\n",
              "      <th>8</th>\n",
              "      <td>1230877</td>\n",
              "      <td>10/31/2019</td>\n",
              "      <td>238785.0</td>\n",
              "      <td>-36481.0</td>\n",
              "      <td>high</td>\n",
              "      <td>Target</td>\n",
              "      <td>20</td>\n",
              "    </tr>\n",
              "    <tr>\n",
              "      <th>9</th>\n",
              "      <td>1368045</td>\n",
              "      <td>12/1/2019</td>\n",
              "      <td>172952.0</td>\n",
              "      <td>-5329.5</td>\n",
              "      <td>high</td>\n",
              "      <td>Target</td>\n",
              "      <td>20</td>\n",
              "    </tr>\n",
              "  </tbody>\n",
              "</table>\n",
              "</div>"
            ],
            "text/plain": [
              "   accountid        date     handle  ...  last_12months_segment Target/CG bonus\n",
              "0    1230877  11/24/2019  1104750.0  ...                   high    Target    20\n",
              "1    1230877  11/26/2019   596214.0  ...                   high    Target    20\n",
              "2    1230877  11/13/2019   465250.0  ...                   high    Target    20\n",
              "3    1230877   11/1/2019   437800.0  ...                   high    Target    20\n",
              "4    1276799   2/24/2019   435275.0  ...                     ka    Target    50\n",
              "5    1230877  11/14/2019   355835.0  ...                   high    Target    20\n",
              "6    1230877  11/25/2019   347612.0  ...                   high    Target    20\n",
              "7    1230877  10/14/2019   322050.0  ...                   high    Target    20\n",
              "8    1230877  10/31/2019   238785.0  ...                   high    Target    20\n",
              "9    1368045   12/1/2019   172952.0  ...                   high    Target    20\n",
              "\n",
              "[10 rows x 7 columns]"
            ]
          },
          "metadata": {
            "tags": []
          },
          "execution_count": 54
        }
      ]
    },
    {
      "cell_type": "code",
      "metadata": {
        "id": "Bzf2YD9koUfl"
      },
      "source": [
        "# looking at various columns within dataframe"
      ],
      "execution_count": 5,
      "outputs": []
    },
    {
      "cell_type": "code",
      "metadata": {
        "id": "Qx6QeHCBg42X",
        "outputId": "ce931035-a50d-41a3-dca6-553ff492b990",
        "colab": {
          "base_uri": "https://localhost:8080/",
          "height": 230
        }
      },
      "source": [
        "df['accountid'].value_counts()"
      ],
      "execution_count": 6,
      "outputs": [
        {
          "output_type": "execute_result",
          "data": {
            "text/plain": [
              "1171041    351\n",
              "1165513    337\n",
              "1187561    333\n",
              "1217510    308\n",
              "1164847    289\n",
              "          ... \n",
              "1303065      1\n",
              "1284606      1\n",
              "1275052      1\n",
              "1427956      1\n",
              "1300543      1\n",
              "Name: accountid, Length: 699, dtype: int64"
            ]
          },
          "metadata": {
            "tags": []
          },
          "execution_count": 6
        }
      ]
    },
    {
      "cell_type": "code",
      "metadata": {
        "id": "nc0EROqcaDpm",
        "outputId": "10d3ec3d-6424-402a-d29a-8f8c90b94ee7",
        "colab": {
          "base_uri": "https://localhost:8080/",
          "height": 105
        }
      },
      "source": [
        "df['Target/CG'].describe()"
      ],
      "execution_count": 7,
      "outputs": [
        {
          "output_type": "execute_result",
          "data": {
            "text/plain": [
              "count      12181\n",
              "unique         2\n",
              "top       Target\n",
              "freq        9845\n",
              "Name: Target/CG, dtype: object"
            ]
          },
          "metadata": {
            "tags": []
          },
          "execution_count": 7
        }
      ]
    },
    {
      "cell_type": "code",
      "metadata": {
        "id": "bp5B6ToSaWsF",
        "outputId": "5adc10a8-242f-4426-bb95-8cb5b2077850",
        "colab": {
          "base_uri": "https://localhost:8080/",
          "height": 70
        }
      },
      "source": [
        "df['Target/CG'].value_counts()"
      ],
      "execution_count": 8,
      "outputs": [
        {
          "output_type": "execute_result",
          "data": {
            "text/plain": [
              "Target           9845\n",
              "Control Group    2336\n",
              "Name: Target/CG, dtype: int64"
            ]
          },
          "metadata": {
            "tags": []
          },
          "execution_count": 8
        }
      ]
    },
    {
      "cell_type": "code",
      "metadata": {
        "id": "pHatcVGJachv",
        "outputId": "eaae3ff4-8491-4c95-ae3c-fd456be03e42",
        "colab": {
          "base_uri": "https://localhost:8080/",
          "height": 105
        }
      },
      "source": [
        "df['bonus'].value_counts()"
      ],
      "execution_count": 9,
      "outputs": [
        {
          "output_type": "execute_result",
          "data": {
            "text/plain": [
              "5     4330\n",
              "10    3402\n",
              "20    2866\n",
              "50    1583\n",
              "Name: bonus, dtype: int64"
            ]
          },
          "metadata": {
            "tags": []
          },
          "execution_count": 9
        }
      ]
    },
    {
      "cell_type": "code",
      "metadata": {
        "id": "B70BA-Rwg5a5",
        "outputId": "97f4a625-c4c9-42b4-e9e8-3aacfe086cee",
        "colab": {
          "base_uri": "https://localhost:8080/",
          "height": 105
        }
      },
      "source": [
        "df['date'].describe()"
      ],
      "execution_count": 10,
      "outputs": [
        {
          "output_type": "execute_result",
          "data": {
            "text/plain": [
              "count         12181\n",
              "unique          382\n",
              "top       1/11/2020\n",
              "freq             56\n",
              "Name: date, dtype: object"
            ]
          },
          "metadata": {
            "tags": []
          },
          "execution_count": 10
        }
      ]
    },
    {
      "cell_type": "code",
      "metadata": {
        "id": "4V9232kPhKxw",
        "outputId": "1760a878-917a-45a4-9442-773d784c8560",
        "colab": {
          "base_uri": "https://localhost:8080/",
          "height": 230
        }
      },
      "source": [
        "df['handle'].value_counts()"
      ],
      "execution_count": 14,
      "outputs": [
        {
          "output_type": "execute_result",
          "data": {
            "text/plain": [
              "0.00       1285\n",
              "10.00        44\n",
              "5.00         39\n",
              "0.10         26\n",
              "20.00        21\n",
              "           ... \n",
              "1675.00       1\n",
              "427.75        1\n",
              "120.30        1\n",
              "83.49         1\n",
              "6400.00       1\n",
              "Name: handle, Length: 8143, dtype: int64"
            ]
          },
          "metadata": {
            "tags": []
          },
          "execution_count": 14
        }
      ]
    },
    {
      "cell_type": "code",
      "metadata": {
        "id": "vL_maPb6hyVX",
        "outputId": "1b365d15-e389-4e10-f33c-b222bff8b37e",
        "colab": {
          "base_uri": "https://localhost:8080/",
          "height": 141
        }
      },
      "source": [
        "df['last_12months_segment'].value_counts()"
      ],
      "execution_count": 15,
      "outputs": [
        {
          "output_type": "execute_result",
          "data": {
            "text/plain": [
              "low         3899\n",
              "medium      3402\n",
              "high        2866\n",
              "ka          1583\n",
              "regnodep     404\n",
              "no bet        27\n",
              "Name: last_12months_segment, dtype: int64"
            ]
          },
          "metadata": {
            "tags": []
          },
          "execution_count": 15
        }
      ]
    },
    {
      "cell_type": "code",
      "metadata": {
        "id": "zV_toyVcGxar"
      },
      "source": [
        "# changing date to go from year, month, day\n",
        "\n",
        "df['date'] = pd.to_datetime(df['date'])"
      ],
      "execution_count": 32,
      "outputs": []
    },
    {
      "cell_type": "code",
      "metadata": {
        "id": "9JUMoyCsFvy-",
        "outputId": "4e52314b-99cf-4528-8f38-c09d3cfb215b",
        "colab": {
          "base_uri": "https://localhost:8080/",
          "height": 52
        }
      },
      "source": [
        "print(min(df['date']))\n",
        "print(max(df['date']))"
      ],
      "execution_count": 33,
      "outputs": [
        {
          "output_type": "stream",
          "text": [
            "2019-01-21 00:00:00\n",
            "2020-02-06 00:00:00\n"
          ],
          "name": "stdout"
        }
      ]
    },
    {
      "cell_type": "code",
      "metadata": {
        "id": "fA-46fHFHZxD",
        "outputId": "8c9c13a3-1dca-460e-9618-78029e45dc9b",
        "colab": {
          "base_uri": "https://localhost:8080/",
          "height": 197
        }
      },
      "source": [
        "df.head()"
      ],
      "execution_count": 8,
      "outputs": [
        {
          "output_type": "execute_result",
          "data": {
            "text/html": [
              "<div>\n",
              "<style scoped>\n",
              "    .dataframe tbody tr th:only-of-type {\n",
              "        vertical-align: middle;\n",
              "    }\n",
              "\n",
              "    .dataframe tbody tr th {\n",
              "        vertical-align: top;\n",
              "    }\n",
              "\n",
              "    .dataframe thead th {\n",
              "        text-align: right;\n",
              "    }\n",
              "</style>\n",
              "<table border=\"1\" class=\"dataframe\">\n",
              "  <thead>\n",
              "    <tr style=\"text-align: right;\">\n",
              "      <th></th>\n",
              "      <th>accountid</th>\n",
              "      <th>date</th>\n",
              "      <th>handle</th>\n",
              "      <th>grossrevenue</th>\n",
              "      <th>last_12months_segment</th>\n",
              "      <th>Target/CG</th>\n",
              "      <th>bonus</th>\n",
              "    </tr>\n",
              "  </thead>\n",
              "  <tbody>\n",
              "    <tr>\n",
              "      <th>0</th>\n",
              "      <td>1230877</td>\n",
              "      <td>2019-11-24</td>\n",
              "      <td>1104750.0</td>\n",
              "      <td>-49000.0</td>\n",
              "      <td>high</td>\n",
              "      <td>Target</td>\n",
              "      <td>20</td>\n",
              "    </tr>\n",
              "    <tr>\n",
              "      <th>1</th>\n",
              "      <td>1230877</td>\n",
              "      <td>2019-11-26</td>\n",
              "      <td>596214.0</td>\n",
              "      <td>-30336.0</td>\n",
              "      <td>high</td>\n",
              "      <td>Target</td>\n",
              "      <td>20</td>\n",
              "    </tr>\n",
              "    <tr>\n",
              "      <th>2</th>\n",
              "      <td>1230877</td>\n",
              "      <td>2019-11-13</td>\n",
              "      <td>465250.0</td>\n",
              "      <td>-36000.0</td>\n",
              "      <td>high</td>\n",
              "      <td>Target</td>\n",
              "      <td>20</td>\n",
              "    </tr>\n",
              "    <tr>\n",
              "      <th>3</th>\n",
              "      <td>1230877</td>\n",
              "      <td>2019-11-01</td>\n",
              "      <td>437800.0</td>\n",
              "      <td>-20000.0</td>\n",
              "      <td>high</td>\n",
              "      <td>Target</td>\n",
              "      <td>20</td>\n",
              "    </tr>\n",
              "    <tr>\n",
              "      <th>4</th>\n",
              "      <td>1276799</td>\n",
              "      <td>2019-02-24</td>\n",
              "      <td>435275.0</td>\n",
              "      <td>69825.0</td>\n",
              "      <td>ka</td>\n",
              "      <td>Target</td>\n",
              "      <td>50</td>\n",
              "    </tr>\n",
              "  </tbody>\n",
              "</table>\n",
              "</div>"
            ],
            "text/plain": [
              "   accountid       date     handle  ...  last_12months_segment Target/CG bonus\n",
              "0    1230877 2019-11-24  1104750.0  ...                   high    Target    20\n",
              "1    1230877 2019-11-26   596214.0  ...                   high    Target    20\n",
              "2    1230877 2019-11-13   465250.0  ...                   high    Target    20\n",
              "3    1230877 2019-11-01   437800.0  ...                   high    Target    20\n",
              "4    1276799 2019-02-24   435275.0  ...                     ka    Target    50\n",
              "\n",
              "[5 rows x 7 columns]"
            ]
          },
          "metadata": {
            "tags": []
          },
          "execution_count": 8
        }
      ]
    },
    {
      "cell_type": "code",
      "metadata": {
        "id": "Me1elN_1XLEj"
      },
      "source": [
        "# create a function where inputted account ID spits out gross revenue\n",
        "# also spits out a visualization to display gross revenue for specific account ID\n",
        "# also says if user was a target or part of the control group"
      ],
      "execution_count": 16,
      "outputs": []
    },
    {
      "cell_type": "code",
      "metadata": {
        "id": "H5YZpCxPfdDe"
      },
      "source": [
        "# input account ID, displays gross revenue for account ID\n",
        "\n",
        "def id_revenue():\n",
        "  inputid = input('Please input Account ID: ')\n",
        "  try:\n",
        "    return df.loc[int(inputid), 'grossrevenue']\n",
        "  except:\n",
        "    return 'No ID found'\n",
        "\n",
        "df.set_index('accountid', inplace=True)"
      ],
      "execution_count": 171,
      "outputs": []
    },
    {
      "cell_type": "code",
      "metadata": {
        "id": "LZpeBAyqfxmH",
        "outputId": "87d1f46f-f7ee-4867-a385-422a503d83d3",
        "colab": {
          "base_uri": "https://localhost:8080/",
          "height": 158
        }
      },
      "source": [
        "# example of function running properly\n",
        "\n",
        "id_revenue()"
      ],
      "execution_count": 172,
      "outputs": [
        {
          "output_type": "stream",
          "text": [
            "Please input Account ID: 1276799\n"
          ],
          "name": "stdout"
        },
        {
          "output_type": "execute_result",
          "data": {
            "text/plain": [
              "accountid\n",
              "1276799    69825.0\n",
              "1276799      436.0\n",
              "1276799    -2243.0\n",
              "1276799    27287.0\n",
              "1276799    -1325.0\n",
              "Name: grossrevenue, dtype: float64"
            ]
          },
          "metadata": {
            "tags": []
          },
          "execution_count": 172
        }
      ]
    },
    {
      "cell_type": "code",
      "metadata": {
        "id": "Dj8dGuwvf9SN",
        "outputId": "734171c3-a157-4cf4-c9e4-b36a77ea4102",
        "colab": {
          "base_uri": "https://localhost:8080/",
          "height": 70
        }
      },
      "source": [
        "# now, let's see what the gross revenue as a whole was\n",
        "\n",
        "total_gross_revenue = df['grossrevenue'].sum()\n",
        "print(total_gross_revenue)\n",
        "print('----------')\n",
        "print(df['grossrevenue'].mean())"
      ],
      "execution_count": 9,
      "outputs": [
        {
          "output_type": "stream",
          "text": [
            "633443.34\n",
            "----------\n",
            "52.002572859370936\n"
          ],
          "name": "stdout"
        }
      ]
    },
    {
      "cell_type": "code",
      "metadata": {
        "id": "mf9hycGVpQC1"
      },
      "source": [
        "# quick assessment from above: without diving into the data too much, \n",
        "# it appears the promo was a major success! \n",
        "# On average, FanDuel increased it's revenue by $52 per user!"
      ],
      "execution_count": 21,
      "outputs": []
    },
    {
      "cell_type": "code",
      "metadata": {
        "id": "GbYjkCkVxZn8"
      },
      "source": [
        "# Machine Learning algorithms w/ visualizations\n",
        "# We can figure out what factors had the biggest impact on positive gross revenue"
      ],
      "execution_count": 22,
      "outputs": []
    },
    {
      "cell_type": "code",
      "metadata": {
        "id": "jQ2krhBMFp_5",
        "outputId": "6287726e-5ad6-4a1a-b9e4-30951a45c302",
        "colab": {
          "base_uri": "https://localhost:8080/",
          "height": 347
        }
      },
      "source": [
        "df.head(10)"
      ],
      "execution_count": 8,
      "outputs": [
        {
          "output_type": "execute_result",
          "data": {
            "text/html": [
              "<div>\n",
              "<style scoped>\n",
              "    .dataframe tbody tr th:only-of-type {\n",
              "        vertical-align: middle;\n",
              "    }\n",
              "\n",
              "    .dataframe tbody tr th {\n",
              "        vertical-align: top;\n",
              "    }\n",
              "\n",
              "    .dataframe thead th {\n",
              "        text-align: right;\n",
              "    }\n",
              "</style>\n",
              "<table border=\"1\" class=\"dataframe\">\n",
              "  <thead>\n",
              "    <tr style=\"text-align: right;\">\n",
              "      <th></th>\n",
              "      <th>accountid</th>\n",
              "      <th>date</th>\n",
              "      <th>handle</th>\n",
              "      <th>grossrevenue</th>\n",
              "      <th>last_12months_segment</th>\n",
              "      <th>Target/CG</th>\n",
              "      <th>bonus</th>\n",
              "    </tr>\n",
              "  </thead>\n",
              "  <tbody>\n",
              "    <tr>\n",
              "      <th>0</th>\n",
              "      <td>1230877</td>\n",
              "      <td>11/24/2019</td>\n",
              "      <td>1104750.0</td>\n",
              "      <td>-49000.0</td>\n",
              "      <td>high</td>\n",
              "      <td>Target</td>\n",
              "      <td>20</td>\n",
              "    </tr>\n",
              "    <tr>\n",
              "      <th>1</th>\n",
              "      <td>1230877</td>\n",
              "      <td>11/26/2019</td>\n",
              "      <td>596214.0</td>\n",
              "      <td>-30336.0</td>\n",
              "      <td>high</td>\n",
              "      <td>Target</td>\n",
              "      <td>20</td>\n",
              "    </tr>\n",
              "    <tr>\n",
              "      <th>2</th>\n",
              "      <td>1230877</td>\n",
              "      <td>11/13/2019</td>\n",
              "      <td>465250.0</td>\n",
              "      <td>-36000.0</td>\n",
              "      <td>high</td>\n",
              "      <td>Target</td>\n",
              "      <td>20</td>\n",
              "    </tr>\n",
              "    <tr>\n",
              "      <th>3</th>\n",
              "      <td>1230877</td>\n",
              "      <td>11/1/2019</td>\n",
              "      <td>437800.0</td>\n",
              "      <td>-20000.0</td>\n",
              "      <td>high</td>\n",
              "      <td>Target</td>\n",
              "      <td>20</td>\n",
              "    </tr>\n",
              "    <tr>\n",
              "      <th>4</th>\n",
              "      <td>1276799</td>\n",
              "      <td>2/24/2019</td>\n",
              "      <td>435275.0</td>\n",
              "      <td>69825.0</td>\n",
              "      <td>ka</td>\n",
              "      <td>Target</td>\n",
              "      <td>50</td>\n",
              "    </tr>\n",
              "    <tr>\n",
              "      <th>5</th>\n",
              "      <td>1230877</td>\n",
              "      <td>11/14/2019</td>\n",
              "      <td>355835.0</td>\n",
              "      <td>18335.0</td>\n",
              "      <td>high</td>\n",
              "      <td>Target</td>\n",
              "      <td>20</td>\n",
              "    </tr>\n",
              "    <tr>\n",
              "      <th>6</th>\n",
              "      <td>1230877</td>\n",
              "      <td>11/25/2019</td>\n",
              "      <td>347612.0</td>\n",
              "      <td>-22812.0</td>\n",
              "      <td>high</td>\n",
              "      <td>Target</td>\n",
              "      <td>20</td>\n",
              "    </tr>\n",
              "    <tr>\n",
              "      <th>7</th>\n",
              "      <td>1230877</td>\n",
              "      <td>10/14/2019</td>\n",
              "      <td>322050.0</td>\n",
              "      <td>19500.0</td>\n",
              "      <td>high</td>\n",
              "      <td>Target</td>\n",
              "      <td>20</td>\n",
              "    </tr>\n",
              "    <tr>\n",
              "      <th>8</th>\n",
              "      <td>1230877</td>\n",
              "      <td>10/31/2019</td>\n",
              "      <td>238785.0</td>\n",
              "      <td>-36481.0</td>\n",
              "      <td>high</td>\n",
              "      <td>Target</td>\n",
              "      <td>20</td>\n",
              "    </tr>\n",
              "    <tr>\n",
              "      <th>9</th>\n",
              "      <td>1368045</td>\n",
              "      <td>12/1/2019</td>\n",
              "      <td>172952.0</td>\n",
              "      <td>-5329.5</td>\n",
              "      <td>high</td>\n",
              "      <td>Target</td>\n",
              "      <td>20</td>\n",
              "    </tr>\n",
              "  </tbody>\n",
              "</table>\n",
              "</div>"
            ],
            "text/plain": [
              "   accountid        date     handle  ...  last_12months_segment Target/CG bonus\n",
              "0    1230877  11/24/2019  1104750.0  ...                   high    Target    20\n",
              "1    1230877  11/26/2019   596214.0  ...                   high    Target    20\n",
              "2    1230877  11/13/2019   465250.0  ...                   high    Target    20\n",
              "3    1230877   11/1/2019   437800.0  ...                   high    Target    20\n",
              "4    1276799   2/24/2019   435275.0  ...                     ka    Target    50\n",
              "5    1230877  11/14/2019   355835.0  ...                   high    Target    20\n",
              "6    1230877  11/25/2019   347612.0  ...                   high    Target    20\n",
              "7    1230877  10/14/2019   322050.0  ...                   high    Target    20\n",
              "8    1230877  10/31/2019   238785.0  ...                   high    Target    20\n",
              "9    1368045   12/1/2019   172952.0  ...                   high    Target    20\n",
              "\n",
              "[10 rows x 7 columns]"
            ]
          },
          "metadata": {
            "tags": []
          },
          "execution_count": 8
        }
      ]
    },
    {
      "cell_type": "code",
      "metadata": {
        "id": "LtLJf5XJ37Ew"
      },
      "source": [
        "def confidence_interval(df, confidence=0.95):\n",
        "  data = np.array(df)\n",
        "  mean = np.mean(df)\n",
        "  n = len(df)\n",
        "  s = df.std(ddof=1)\n",
        "  stderr = s / np.sqrt(n)\n",
        "  t = stats.t.ppf((1 + confidence) / 2.0, n - 1)\n",
        "  margin_of_error = t*stderr\n",
        "  return (mean, mean - margin_of_error, mean + margin_of_error)"
      ],
      "execution_count": 4,
      "outputs": []
    },
    {
      "cell_type": "code",
      "metadata": {
        "id": "ZBnbqj_6kZOz",
        "outputId": "2d7df5a3-8d4a-4853-fb81-e88b953f5094",
        "colab": {
          "base_uri": "https://localhost:8080/",
          "height": 294
        }
      },
      "source": [
        "# try line charts / scatterplot visualizations\n",
        "\n",
        "# gross_revenue_data = df['grossrevenue']\n",
        "\n",
        "# CI = confidence_interval(gross_revenue_data)\n",
        "\n",
        "plt.scatter(df['handle'], df['grossrevenue'], color='b')\n",
        "plt.title('Comparison of Gross Revenue to Handle')\n",
        "plt.xlim([-10000,100000])\n",
        "plt.ylim([-10000,30000])\n",
        "plt.xlabel('Gross Revenue')\n",
        "plt.ylabel('Handle')\n",
        "plt.plot([-5000,90000], [-7000,25000], color = 'black', linewidth = 2)\n",
        "plt.show();"
      ],
      "execution_count": 20,
      "outputs": [
        {
          "output_type": "display_data",
          "data": {
            "image/png": "[encoded data removed]",
            "text/plain": [
              "<Figure size 432x288 with 1 Axes>"
            ]
          },
          "metadata": {
            "tags": [],
            "needs_background": "light"
          }
        }
      ]
    },
    {
      "cell_type": "code",
      "metadata": {
        "id": "iu4SJEXH4bWX",
        "outputId": "6e6f9f50-3bea-44f2-a5a0-4efffa64a927",
        "colab": {
          "base_uri": "https://localhost:8080/",
          "height": 294
        }
      },
      "source": [
        "plt.scatter(df['grossrevenue'], df['Target/CG'], color='b')\n",
        "plt.title('Comparison of Gross Revenue to Target/CG')\n",
        "plt.xlim([-75000,100000])\n",
        "plt.ylim([-2,2])\n",
        "plt.xlabel('Gross Revenue')\n",
        "plt.ylabel('Target/CG')\n",
        "plt.show();"
      ],
      "execution_count": 23,
      "outputs": [
        {
          "output_type": "display_data",
          "data": {
            "image/png": "[encoded data removed]",
            "text/plain": [
              "<Figure size 432x288 with 1 Axes>"
            ]
          },
          "metadata": {
            "tags": [],
            "needs_background": "light"
          }
        }
      ]
    },
    {
      "cell_type": "code",
      "metadata": {
        "id": "kniRKcDXxxlJ"
      },
      "source": [
        "# charting the sum of gross revenue from target and cg"
      ],
      "execution_count": 25,
      "outputs": []
    },
    {
      "cell_type": "code",
      "metadata": {
        "id": "gXpYs-oazzNC"
      },
      "source": [
        "# create a separate data set with the sum of gross revenue from target\n",
        "# and control group respectively\n",
        "\n",
        "target_gross_revenue_sum = df.loc[df['Target/CG'] == 'Target']"
      ],
      "execution_count": 62,
      "outputs": []
    },
    {
      "cell_type": "code",
      "metadata": {
        "id": "xjL_EJvDzzla",
        "outputId": "94f4f9f2-3baf-4e99-907f-41a772b943e7",
        "colab": {
          "base_uri": "https://localhost:8080/",
          "height": 52
        }
      },
      "source": [
        "# make sure target is the only variable in column\n",
        "target_gross_revenue_sum['Target/CG'].value_counts()"
      ],
      "execution_count": 63,
      "outputs": [
        {
          "output_type": "execute_result",
          "data": {
            "text/plain": [
              "Target    9845\n",
              "Name: Target/CG, dtype: int64"
            ]
          },
          "metadata": {
            "tags": []
          },
          "execution_count": 63
        }
      ]
    },
    {
      "cell_type": "code",
      "metadata": {
        "id": "SknUbJ6a0X41"
      },
      "source": [
        "# target is only variable, let's now only keep gross revenue and target\n",
        "\n",
        "target_gross_revenue_sum = target_gross_revenue_sum[['Target/CG', 'grossrevenue']]"
      ],
      "execution_count": 64,
      "outputs": []
    },
    {
      "cell_type": "code",
      "metadata": {
        "id": "bRuloQBG0YBQ",
        "outputId": "a467d40d-70ba-4450-a440-78d959a59505",
        "colab": {
          "base_uri": "https://localhost:8080/",
          "height": 197
        }
      },
      "source": [
        "# now we have all the target and gross revenue!\n",
        "\n",
        "target_gross_revenue_sum.head()"
      ],
      "execution_count": 65,
      "outputs": [
        {
          "output_type": "execute_result",
          "data": {
            "text/html": [
              "<div>\n",
              "<style scoped>\n",
              "    .dataframe tbody tr th:only-of-type {\n",
              "        vertical-align: middle;\n",
              "    }\n",
              "\n",
              "    .dataframe tbody tr th {\n",
              "        vertical-align: top;\n",
              "    }\n",
              "\n",
              "    .dataframe thead th {\n",
              "        text-align: right;\n",
              "    }\n",
              "</style>\n",
              "<table border=\"1\" class=\"dataframe\">\n",
              "  <thead>\n",
              "    <tr style=\"text-align: right;\">\n",
              "      <th></th>\n",
              "      <th>Target/CG</th>\n",
              "      <th>grossrevenue</th>\n",
              "    </tr>\n",
              "  </thead>\n",
              "  <tbody>\n",
              "    <tr>\n",
              "      <th>0</th>\n",
              "      <td>Target</td>\n",
              "      <td>-49000.0</td>\n",
              "    </tr>\n",
              "    <tr>\n",
              "      <th>1</th>\n",
              "      <td>Target</td>\n",
              "      <td>-30336.0</td>\n",
              "    </tr>\n",
              "    <tr>\n",
              "      <th>2</th>\n",
              "      <td>Target</td>\n",
              "      <td>-36000.0</td>\n",
              "    </tr>\n",
              "    <tr>\n",
              "      <th>3</th>\n",
              "      <td>Target</td>\n",
              "      <td>-20000.0</td>\n",
              "    </tr>\n",
              "    <tr>\n",
              "      <th>4</th>\n",
              "      <td>Target</td>\n",
              "      <td>69825.0</td>\n",
              "    </tr>\n",
              "  </tbody>\n",
              "</table>\n",
              "</div>"
            ],
            "text/plain": [
              "  Target/CG  grossrevenue\n",
              "0    Target      -49000.0\n",
              "1    Target      -30336.0\n",
              "2    Target      -36000.0\n",
              "3    Target      -20000.0\n",
              "4    Target       69825.0"
            ]
          },
          "metadata": {
            "tags": []
          },
          "execution_count": 65
        }
      ]
    },
    {
      "cell_type": "code",
      "metadata": {
        "id": "Km27_qlv0YHC"
      },
      "source": [
        "# let's do the same for control group now\n",
        "\n",
        "cg_gross_revenue_sum = df.loc[df['Target/CG'] == 'Control Group']"
      ],
      "execution_count": 72,
      "outputs": []
    },
    {
      "cell_type": "code",
      "metadata": {
        "id": "HbotkKUN1lxI",
        "outputId": "c93e093e-0585-4068-9837-ff9e405c4ebf",
        "colab": {
          "base_uri": "https://localhost:8080/",
          "height": 52
        }
      },
      "source": [
        "# make sure control group is the only variable in column\n",
        "\n",
        "cg_gross_revenue_sum['Target/CG'].value_counts()"
      ],
      "execution_count": 76,
      "outputs": [
        {
          "output_type": "execute_result",
          "data": {
            "text/plain": [
              "Control Group    2336\n",
              "Name: Target/CG, dtype: int64"
            ]
          },
          "metadata": {
            "tags": []
          },
          "execution_count": 76
        }
      ]
    },
    {
      "cell_type": "code",
      "metadata": {
        "id": "njEt8BIV1lvJ"
      },
      "source": [
        "# target is only variable, let's now only keep gross revenue and target\n",
        "\n",
        "cg_gross_revenue_sum = cg_gross_revenue_sum[['Target/CG', 'grossrevenue']]"
      ],
      "execution_count": 74,
      "outputs": []
    },
    {
      "cell_type": "code",
      "metadata": {
        "id": "zzKm9Aqi1lsy",
        "outputId": "ecdaf0d2-8211-4dd9-c252-dc13a1a7e55a",
        "colab": {
          "base_uri": "https://localhost:8080/",
          "height": 197
        }
      },
      "source": [
        "# now we have all the control group and gross revenue!\n",
        "\n",
        "cg_gross_revenue_sum.head()"
      ],
      "execution_count": 75,
      "outputs": [
        {
          "output_type": "execute_result",
          "data": {
            "text/html": [
              "<div>\n",
              "<style scoped>\n",
              "    .dataframe tbody tr th:only-of-type {\n",
              "        vertical-align: middle;\n",
              "    }\n",
              "\n",
              "    .dataframe tbody tr th {\n",
              "        vertical-align: top;\n",
              "    }\n",
              "\n",
              "    .dataframe thead th {\n",
              "        text-align: right;\n",
              "    }\n",
              "</style>\n",
              "<table border=\"1\" class=\"dataframe\">\n",
              "  <thead>\n",
              "    <tr style=\"text-align: right;\">\n",
              "      <th></th>\n",
              "      <th>Target/CG</th>\n",
              "      <th>grossrevenue</th>\n",
              "    </tr>\n",
              "  </thead>\n",
              "  <tbody>\n",
              "    <tr>\n",
              "      <th>46</th>\n",
              "      <td>Control Group</td>\n",
              "      <td>974.32</td>\n",
              "    </tr>\n",
              "    <tr>\n",
              "      <th>48</th>\n",
              "      <td>Control Group</td>\n",
              "      <td>-1848.51</td>\n",
              "    </tr>\n",
              "    <tr>\n",
              "      <th>61</th>\n",
              "      <td>Control Group</td>\n",
              "      <td>-1490.88</td>\n",
              "    </tr>\n",
              "    <tr>\n",
              "      <th>67</th>\n",
              "      <td>Control Group</td>\n",
              "      <td>2759.13</td>\n",
              "    </tr>\n",
              "    <tr>\n",
              "      <th>68</th>\n",
              "      <td>Control Group</td>\n",
              "      <td>167.50</td>\n",
              "    </tr>\n",
              "  </tbody>\n",
              "</table>\n",
              "</div>"
            ],
            "text/plain": [
              "        Target/CG  grossrevenue\n",
              "46  Control Group        974.32\n",
              "48  Control Group      -1848.51\n",
              "61  Control Group      -1490.88\n",
              "67  Control Group       2759.13\n",
              "68  Control Group        167.50"
            ]
          },
          "metadata": {
            "tags": []
          },
          "execution_count": 75
        }
      ]
    },
    {
      "cell_type": "code",
      "metadata": {
        "id": "VNBio7NW1lqE",
        "outputId": "eb62457a-bd56-4edd-abda-2d25fabb7924",
        "colab": {
          "base_uri": "https://localhost:8080/",
          "height": 406
        }
      },
      "source": [
        "# merge the two datasets together\n",
        "\n",
        "from functools import reduce\n",
        "\n",
        "df_merge = [target_gross_revenue_sum, cg_gross_revenue_sum]\n",
        "\n",
        "df_merged = reduce(lambda left,right: pd.merge(left,right,\n",
        "                                               how='outer'), df_merge)\n",
        "df_merged"
      ],
      "execution_count": 92,
      "outputs": [
        {
          "output_type": "execute_result",
          "data": {
            "text/html": [
              "<div>\n",
              "<style scoped>\n",
              "    .dataframe tbody tr th:only-of-type {\n",
              "        vertical-align: middle;\n",
              "    }\n",
              "\n",
              "    .dataframe tbody tr th {\n",
              "        vertical-align: top;\n",
              "    }\n",
              "\n",
              "    .dataframe thead th {\n",
              "        text-align: right;\n",
              "    }\n",
              "</style>\n",
              "<table border=\"1\" class=\"dataframe\">\n",
              "  <thead>\n",
              "    <tr style=\"text-align: right;\">\n",
              "      <th></th>\n",
              "      <th>Target/CG</th>\n",
              "      <th>grossrevenue</th>\n",
              "    </tr>\n",
              "  </thead>\n",
              "  <tbody>\n",
              "    <tr>\n",
              "      <th>0</th>\n",
              "      <td>Target</td>\n",
              "      <td>-49000.00</td>\n",
              "    </tr>\n",
              "    <tr>\n",
              "      <th>1</th>\n",
              "      <td>Target</td>\n",
              "      <td>-30336.00</td>\n",
              "    </tr>\n",
              "    <tr>\n",
              "      <th>2</th>\n",
              "      <td>Target</td>\n",
              "      <td>-36000.00</td>\n",
              "    </tr>\n",
              "    <tr>\n",
              "      <th>3</th>\n",
              "      <td>Target</td>\n",
              "      <td>-20000.00</td>\n",
              "    </tr>\n",
              "    <tr>\n",
              "      <th>4</th>\n",
              "      <td>Target</td>\n",
              "      <td>69825.00</td>\n",
              "    </tr>\n",
              "    <tr>\n",
              "      <th>...</th>\n",
              "      <td>...</td>\n",
              "      <td>...</td>\n",
              "    </tr>\n",
              "    <tr>\n",
              "      <th>12176</th>\n",
              "      <td>Control Group</td>\n",
              "      <td>0.05</td>\n",
              "    </tr>\n",
              "    <tr>\n",
              "      <th>12177</th>\n",
              "      <td>Control Group</td>\n",
              "      <td>0.05</td>\n",
              "    </tr>\n",
              "    <tr>\n",
              "      <th>12178</th>\n",
              "      <td>Control Group</td>\n",
              "      <td>0.02</td>\n",
              "    </tr>\n",
              "    <tr>\n",
              "      <th>12179</th>\n",
              "      <td>Control Group</td>\n",
              "      <td>0.02</td>\n",
              "    </tr>\n",
              "    <tr>\n",
              "      <th>12180</th>\n",
              "      <td>Control Group</td>\n",
              "      <td>0.01</td>\n",
              "    </tr>\n",
              "  </tbody>\n",
              "</table>\n",
              "<p>12181 rows × 2 columns</p>\n",
              "</div>"
            ],
            "text/plain": [
              "           Target/CG  grossrevenue\n",
              "0             Target     -49000.00\n",
              "1             Target     -30336.00\n",
              "2             Target     -36000.00\n",
              "3             Target     -20000.00\n",
              "4             Target      69825.00\n",
              "...              ...           ...\n",
              "12176  Control Group          0.05\n",
              "12177  Control Group          0.05\n",
              "12178  Control Group          0.02\n",
              "12179  Control Group          0.02\n",
              "12180  Control Group          0.01\n",
              "\n",
              "[12181 rows x 2 columns]"
            ]
          },
          "metadata": {
            "tags": []
          },
          "execution_count": 92
        }
      ]
    },
    {
      "cell_type": "code",
      "metadata": {
        "id": "gEBVNnTk9ci5",
        "outputId": "ae83b9d5-d5bd-4ab8-8742-ceedec59172c",
        "colab": {
          "base_uri": "https://localhost:8080/",
          "height": 70
        }
      },
      "source": [
        "df_merged['Target/CG'].value_counts()"
      ],
      "execution_count": 93,
      "outputs": [
        {
          "output_type": "execute_result",
          "data": {
            "text/plain": [
              "Target           9845\n",
              "Control Group    2336\n",
              "Name: Target/CG, dtype: int64"
            ]
          },
          "metadata": {
            "tags": []
          },
          "execution_count": 93
        }
      ]
    },
    {
      "cell_type": "code",
      "metadata": {
        "id": "cq_8Otks9RoT"
      },
      "source": [
        "target_sum = df_merged.loc[df_merged['Target/CG'] == 'Target'] "
      ],
      "execution_count": 95,
      "outputs": []
    },
    {
      "cell_type": "code",
      "metadata": {
        "id": "ZAmyow8gD123",
        "outputId": "41cc9d13-3fe8-440c-e289-6e2da11991b6",
        "colab": {
          "base_uri": "https://localhost:8080/",
          "height": 52
        }
      },
      "source": [
        "# make sure only target is obtained\n",
        "\n",
        "target_sum['Target/CG'].value_counts()"
      ],
      "execution_count": 96,
      "outputs": [
        {
          "output_type": "execute_result",
          "data": {
            "text/plain": [
              "Target    9845\n",
              "Name: Target/CG, dtype: int64"
            ]
          },
          "metadata": {
            "tags": []
          },
          "execution_count": 96
        }
      ]
    },
    {
      "cell_type": "code",
      "metadata": {
        "id": "Eyhj77huEA4Y"
      },
      "source": [
        "total_target = target_sum['grossrevenue'].sum()"
      ],
      "execution_count": 97,
      "outputs": []
    },
    {
      "cell_type": "code",
      "metadata": {
        "id": "0sqQKoYnEMMv",
        "outputId": "2d0f82f3-1ab7-4c61-bcf3-21b03bea2af0",
        "colab": {
          "base_uri": "https://localhost:8080/",
          "height": 34
        }
      },
      "source": [
        "# our total of gross revenue from target seen below\n",
        "\n",
        "total_target"
      ],
      "execution_count": 98,
      "outputs": [
        {
          "output_type": "execute_result",
          "data": {
            "text/plain": [
              "522682.02999999997"
            ]
          },
          "metadata": {
            "tags": []
          },
          "execution_count": 98
        }
      ]
    },
    {
      "cell_type": "code",
      "metadata": {
        "id": "ORNZbdr1Eaj5"
      },
      "source": [
        "cg_sum = df_merged.loc[df_merged['Target/CG'] == 'Control Group'] "
      ],
      "execution_count": 99,
      "outputs": []
    },
    {
      "cell_type": "code",
      "metadata": {
        "id": "g8FSjVl8Ej51",
        "outputId": "468768f0-a1c3-4263-9b01-bc4337620a71",
        "colab": {
          "base_uri": "https://localhost:8080/",
          "height": 52
        }
      },
      "source": [
        "cg_sum['Target/CG'].value_counts()"
      ],
      "execution_count": 100,
      "outputs": [
        {
          "output_type": "execute_result",
          "data": {
            "text/plain": [
              "Control Group    2336\n",
              "Name: Target/CG, dtype: int64"
            ]
          },
          "metadata": {
            "tags": []
          },
          "execution_count": 100
        }
      ]
    },
    {
      "cell_type": "code",
      "metadata": {
        "id": "XkBUD9RBErCJ"
      },
      "source": [
        "total_cg = cg_sum['grossrevenue'].sum()"
      ],
      "execution_count": 101,
      "outputs": []
    },
    {
      "cell_type": "code",
      "metadata": {
        "id": "IyWSp7mCE1lh",
        "outputId": "2c37ae97-7fb1-4abe-a4b7-5e1a487d0dc7",
        "colab": {
          "base_uri": "https://localhost:8080/",
          "height": 34
        }
      },
      "source": [
        "# same process for control group, total gross revenue for CG is seen below\n",
        "\n",
        "total_cg"
      ],
      "execution_count": 102,
      "outputs": [
        {
          "output_type": "execute_result",
          "data": {
            "text/plain": [
              "110761.30999999998"
            ]
          },
          "metadata": {
            "tags": []
          },
          "execution_count": 102
        }
      ]
    },
    {
      "cell_type": "code",
      "metadata": {
        "id": "_Zo4vyc5G1WI"
      },
      "source": [
        "# creating dataframe with new obtained sum results\n",
        "\n",
        "target_cg_rev = {'Target/CG': ['Target', 'Control Group'],\n",
        "              'Total Target': [total_target, 'N/A'],\n",
        "              'Total CG': ['N/A', total_cg]}\n",
        "\n",
        "target_cg_df = pd.DataFrame(target_cg_rev, columns=['Target/CG', 'Total Target', 'Total CG'])"
      ],
      "execution_count": 146,
      "outputs": []
    },
    {
      "cell_type": "code",
      "metadata": {
        "id": "7tR7YDa0HZi2",
        "outputId": "0ce2c8e3-f491-495d-cefd-971c4baec8e2",
        "colab": {
          "base_uri": "https://localhost:8080/",
          "height": 107
        }
      },
      "source": [
        "target_cg_df.head()"
      ],
      "execution_count": 147,
      "outputs": [
        {
          "output_type": "execute_result",
          "data": {
            "text/html": [
              "<div>\n",
              "<style scoped>\n",
              "    .dataframe tbody tr th:only-of-type {\n",
              "        vertical-align: middle;\n",
              "    }\n",
              "\n",
              "    .dataframe tbody tr th {\n",
              "        vertical-align: top;\n",
              "    }\n",
              "\n",
              "    .dataframe thead th {\n",
              "        text-align: right;\n",
              "    }\n",
              "</style>\n",
              "<table border=\"1\" class=\"dataframe\">\n",
              "  <thead>\n",
              "    <tr style=\"text-align: right;\">\n",
              "      <th></th>\n",
              "      <th>Target/CG</th>\n",
              "      <th>Total Target</th>\n",
              "      <th>Total CG</th>\n",
              "    </tr>\n",
              "  </thead>\n",
              "  <tbody>\n",
              "    <tr>\n",
              "      <th>0</th>\n",
              "      <td>Target</td>\n",
              "      <td>522682</td>\n",
              "      <td>N/A</td>\n",
              "    </tr>\n",
              "    <tr>\n",
              "      <th>1</th>\n",
              "      <td>Control Group</td>\n",
              "      <td>N/A</td>\n",
              "      <td>110761</td>\n",
              "    </tr>\n",
              "  </tbody>\n",
              "</table>\n",
              "</div>"
            ],
            "text/plain": [
              "       Target/CG Total Target Total CG\n",
              "0         Target       522682      N/A\n",
              "1  Control Group          N/A   110761"
            ]
          },
          "metadata": {
            "tags": []
          },
          "execution_count": 147
        }
      ]
    },
    {
      "cell_type": "code",
      "metadata": {
        "id": "iIHnkATp0X9D",
        "outputId": "7aa2ed90-fddc-4dd6-a21e-9e1ecb5b7067",
        "colab": {
          "base_uri": "https://localhost:8080/",
          "height": 52
        }
      },
      "source": [
        "target_cg_df['Total Target'][:1]"
      ],
      "execution_count": 152,
      "outputs": [
        {
          "output_type": "execute_result",
          "data": {
            "text/plain": [
              "0    522682\n",
              "Name: Total Target, dtype: object"
            ]
          },
          "metadata": {
            "tags": []
          },
          "execution_count": 152
        }
      ]
    },
    {
      "cell_type": "code",
      "metadata": {
        "id": "T-WnxRaZP-R0",
        "outputId": "6d6f47ef-6f47-4458-e4c5-4d3ae033ca86",
        "colab": {
          "base_uri": "https://localhost:8080/",
          "height": 52
        }
      },
      "source": [
        "target_cg_df['Total CG'][1:]"
      ],
      "execution_count": 153,
      "outputs": [
        {
          "output_type": "execute_result",
          "data": {
            "text/plain": [
              "1    110761\n",
              "Name: Total CG, dtype: object"
            ]
          },
          "metadata": {
            "tags": []
          },
          "execution_count": 153
        }
      ]
    },
    {
      "cell_type": "code",
      "metadata": {
        "id": "QgTbEADN1lnH"
      },
      "source": [
        "# finally, let's graph the results! "
      ],
      "execution_count": null,
      "outputs": []
    },
    {
      "cell_type": "code",
      "metadata": {
        "id": "0LqaXSHBxWLr",
        "outputId": "699732bc-8596-452f-9d0a-8369861ebe21",
        "colab": {
          "base_uri": "https://localhost:8080/",
          "height": 472
        }
      },
      "source": [
        "plt.style.use('ggplot')\n",
        "\n",
        "x = ['Target', 'Control Group']\n",
        "Gross_Revenue = [522682, 110761]\n",
        "\n",
        "x_pos = [i for i, _ in enumerate(x)]\n",
        "\n",
        "bar=plt.bar(x_pos, Gross_Revenue, color='blue')\n",
        "plt.xlabel('Target or Control Group')\n",
        "plt.ylabel('Gross Revenue Amount ($)')\n",
        "plt.title('Target vs Control Group (Gross Revenue)')\n",
        "\n",
        "plt.xticks(x_pos, x)\n",
        "\n",
        "bar[0].set_color('r')\n",
        "\n",
        "plt.show()"
      ],
      "execution_count": 170,
      "outputs": [
        {
          "output_type": "display_data",
          "data": {
            "image/png": "[encoded data removed]",
            "text/plain": [
              "<Figure size 640x480 with 1 Axes>"
            ]
          },
          "metadata": {
            "tags": []
          }
        }
      ]
    },
    {
      "cell_type": "code",
      "metadata": {
        "id": "SZlIhuELLPji"
      },
      "source": [
        "########### need to make last_12months_segment, target/cg numeric"
      ],
      "execution_count": 10,
      "outputs": []
    },
    {
      "cell_type": "code",
      "metadata": {
        "id": "HANdbaywOxWM"
      },
      "source": [
        "# low, medium, high, ka, regnodep, no bet replaced with numeric value\n",
        "# have to do this in order to run machine learning algorithms\n",
        "\n",
        "df['last_12months_segment'] = df['last_12months_segment'].replace({'low': 0})\n",
        "df['last_12months_segment'] = df['last_12months_segment'].replace({'medium': 1})\n",
        "df['last_12months_segment'] = df['last_12months_segment'].replace({'high': 2})\n",
        "df['last_12months_segment'] = df['last_12months_segment'].replace({'ka': 3})\n",
        "df['last_12months_segment'] = df['last_12months_segment'].replace({'regnodep': 4})\n",
        "df['last_12months_segment'] = df['last_12months_segment'].replace({'no bet': 5})"
      ],
      "execution_count": 26,
      "outputs": []
    },
    {
      "cell_type": "code",
      "metadata": {
        "id": "6nVFW5EBPZTL"
      },
      "source": [
        "# change target and cg to numeric value\n",
        "\n",
        "df['Target/CG'] = df['Target/CG'].replace({'Target': 1})\n",
        "df['Target/CG'] = df['Target/CG'].replace({'Control Group': 0})"
      ],
      "execution_count": 27,
      "outputs": []
    },
    {
      "cell_type": "code",
      "metadata": {
        "id": "kY-g9PawPxzz",
        "outputId": "0de76621-7072-4fe8-b7da-89af5a846dea",
        "colab": {
          "base_uri": "https://localhost:8080/",
          "height": 197
        }
      },
      "source": [
        "# new dataframe is created!\n",
        "\n",
        "df.head()"
      ],
      "execution_count": 34,
      "outputs": [
        {
          "output_type": "execute_result",
          "data": {
            "text/html": [
              "<div>\n",
              "<style scoped>\n",
              "    .dataframe tbody tr th:only-of-type {\n",
              "        vertical-align: middle;\n",
              "    }\n",
              "\n",
              "    .dataframe tbody tr th {\n",
              "        vertical-align: top;\n",
              "    }\n",
              "\n",
              "    .dataframe thead th {\n",
              "        text-align: right;\n",
              "    }\n",
              "</style>\n",
              "<table border=\"1\" class=\"dataframe\">\n",
              "  <thead>\n",
              "    <tr style=\"text-align: right;\">\n",
              "      <th></th>\n",
              "      <th>accountid</th>\n",
              "      <th>date</th>\n",
              "      <th>handle</th>\n",
              "      <th>grossrevenue</th>\n",
              "      <th>last_12months_segment</th>\n",
              "      <th>Target/CG</th>\n",
              "      <th>bonus</th>\n",
              "    </tr>\n",
              "  </thead>\n",
              "  <tbody>\n",
              "    <tr>\n",
              "      <th>0</th>\n",
              "      <td>1230877</td>\n",
              "      <td>2019-11-24</td>\n",
              "      <td>1104750.0</td>\n",
              "      <td>-49000.0</td>\n",
              "      <td>2</td>\n",
              "      <td>1</td>\n",
              "      <td>20</td>\n",
              "    </tr>\n",
              "    <tr>\n",
              "      <th>1</th>\n",
              "      <td>1230877</td>\n",
              "      <td>2019-11-26</td>\n",
              "      <td>596214.0</td>\n",
              "      <td>-30336.0</td>\n",
              "      <td>2</td>\n",
              "      <td>1</td>\n",
              "      <td>20</td>\n",
              "    </tr>\n",
              "    <tr>\n",
              "      <th>2</th>\n",
              "      <td>1230877</td>\n",
              "      <td>2019-11-13</td>\n",
              "      <td>465250.0</td>\n",
              "      <td>-36000.0</td>\n",
              "      <td>2</td>\n",
              "      <td>1</td>\n",
              "      <td>20</td>\n",
              "    </tr>\n",
              "    <tr>\n",
              "      <th>3</th>\n",
              "      <td>1230877</td>\n",
              "      <td>2019-11-01</td>\n",
              "      <td>437800.0</td>\n",
              "      <td>-20000.0</td>\n",
              "      <td>2</td>\n",
              "      <td>1</td>\n",
              "      <td>20</td>\n",
              "    </tr>\n",
              "    <tr>\n",
              "      <th>4</th>\n",
              "      <td>1276799</td>\n",
              "      <td>2019-02-24</td>\n",
              "      <td>435275.0</td>\n",
              "      <td>69825.0</td>\n",
              "      <td>3</td>\n",
              "      <td>1</td>\n",
              "      <td>50</td>\n",
              "    </tr>\n",
              "  </tbody>\n",
              "</table>\n",
              "</div>"
            ],
            "text/plain": [
              "   accountid       date     handle  ...  last_12months_segment  Target/CG  bonus\n",
              "0    1230877 2019-11-24  1104750.0  ...                      2          1     20\n",
              "1    1230877 2019-11-26   596214.0  ...                      2          1     20\n",
              "2    1230877 2019-11-13   465250.0  ...                      2          1     20\n",
              "3    1230877 2019-11-01   437800.0  ...                      2          1     20\n",
              "4    1276799 2019-02-24   435275.0  ...                      3          1     50\n",
              "\n",
              "[5 rows x 7 columns]"
            ]
          },
          "metadata": {
            "tags": []
          },
          "execution_count": 34
        }
      ]
    },
    {
      "cell_type": "code",
      "metadata": {
        "id": "eZecSrI12REo"
      },
      "source": [
        "# train/test/val split on data\n",
        "\n",
        "train = df[df['date'] <= '2019-06-01']\n",
        "val = df[(df['date'] == '2019-07-01') | (df['date'] == '2019-07-02') | (df['date'] == '2019-07-03')]\n",
        "test = df[df['date'] >= '2019-08-01']"
      ],
      "execution_count": 35,
      "outputs": []
    },
    {
      "cell_type": "code",
      "metadata": {
        "id": "d2H9nci2JZ9a",
        "outputId": "07206e2a-ad7e-4e0e-a18b-118b441fe5a2",
        "colab": {
          "base_uri": "https://localhost:8080/",
          "height": 34
        }
      },
      "source": [
        "train.shape, val.shape, test.shape"
      ],
      "execution_count": 36,
      "outputs": [
        {
          "output_type": "execute_result",
          "data": {
            "text/plain": [
              "((4422, 7), (88, 7), (5907, 7))"
            ]
          },
          "metadata": {
            "tags": []
          },
          "execution_count": 36
        }
      ]
    },
    {
      "cell_type": "code",
      "metadata": {
        "id": "oq0IAfJ7Ja7C",
        "outputId": "98264394-6436-4a01-9106-057e638a0361",
        "colab": {
          "base_uri": "https://localhost:8080/",
          "height": 197
        }
      },
      "source": [
        "train.head()"
      ],
      "execution_count": 37,
      "outputs": [
        {
          "output_type": "execute_result",
          "data": {
            "text/html": [
              "<div>\n",
              "<style scoped>\n",
              "    .dataframe tbody tr th:only-of-type {\n",
              "        vertical-align: middle;\n",
              "    }\n",
              "\n",
              "    .dataframe tbody tr th {\n",
              "        vertical-align: top;\n",
              "    }\n",
              "\n",
              "    .dataframe thead th {\n",
              "        text-align: right;\n",
              "    }\n",
              "</style>\n",
              "<table border=\"1\" class=\"dataframe\">\n",
              "  <thead>\n",
              "    <tr style=\"text-align: right;\">\n",
              "      <th></th>\n",
              "      <th>accountid</th>\n",
              "      <th>date</th>\n",
              "      <th>handle</th>\n",
              "      <th>grossrevenue</th>\n",
              "      <th>last_12months_segment</th>\n",
              "      <th>Target/CG</th>\n",
              "      <th>bonus</th>\n",
              "    </tr>\n",
              "  </thead>\n",
              "  <tbody>\n",
              "    <tr>\n",
              "      <th>4</th>\n",
              "      <td>1276799</td>\n",
              "      <td>2019-02-24</td>\n",
              "      <td>435275.0</td>\n",
              "      <td>69825.0</td>\n",
              "      <td>3</td>\n",
              "      <td>1</td>\n",
              "      <td>50</td>\n",
              "    </tr>\n",
              "    <tr>\n",
              "      <th>18</th>\n",
              "      <td>1276799</td>\n",
              "      <td>2019-02-20</td>\n",
              "      <td>132054.0</td>\n",
              "      <td>436.0</td>\n",
              "      <td>3</td>\n",
              "      <td>1</td>\n",
              "      <td>50</td>\n",
              "    </tr>\n",
              "    <tr>\n",
              "      <th>22</th>\n",
              "      <td>1232188</td>\n",
              "      <td>2019-02-09</td>\n",
              "      <td>115408.0</td>\n",
              "      <td>7312.0</td>\n",
              "      <td>3</td>\n",
              "      <td>1</td>\n",
              "      <td>50</td>\n",
              "    </tr>\n",
              "    <tr>\n",
              "      <th>30</th>\n",
              "      <td>1230877</td>\n",
              "      <td>2019-03-05</td>\n",
              "      <td>81205.0</td>\n",
              "      <td>40.0</td>\n",
              "      <td>2</td>\n",
              "      <td>1</td>\n",
              "      <td>20</td>\n",
              "    </tr>\n",
              "    <tr>\n",
              "      <th>33</th>\n",
              "      <td>1230877</td>\n",
              "      <td>2019-03-17</td>\n",
              "      <td>67279.0</td>\n",
              "      <td>5750.0</td>\n",
              "      <td>2</td>\n",
              "      <td>1</td>\n",
              "      <td>20</td>\n",
              "    </tr>\n",
              "  </tbody>\n",
              "</table>\n",
              "</div>"
            ],
            "text/plain": [
              "    accountid       date    handle  ...  last_12months_segment  Target/CG  bonus\n",
              "4     1276799 2019-02-24  435275.0  ...                      3          1     50\n",
              "18    1276799 2019-02-20  132054.0  ...                      3          1     50\n",
              "22    1232188 2019-02-09  115408.0  ...                      3          1     50\n",
              "30    1230877 2019-03-05   81205.0  ...                      2          1     20\n",
              "33    1230877 2019-03-17   67279.0  ...                      2          1     20\n",
              "\n",
              "[5 rows x 7 columns]"
            ]
          },
          "metadata": {
            "tags": []
          },
          "execution_count": 37
        }
      ]
    },
    {
      "cell_type": "code",
      "metadata": {
        "id": "8t9FsowdJmo5"
      },
      "source": [
        "# create features and compare them to the target aka gross revenue\n",
        "\n",
        "features = ['handle', 'last_12months_segment', 'Target/CG', 'bonus']\n",
        "target = 'grossrevenue'"
      ],
      "execution_count": 38,
      "outputs": []
    },
    {
      "cell_type": "code",
      "metadata": {
        "id": "_CpOM9gfJyLz"
      },
      "source": [
        "X_train = train[features]\n",
        "y_train = train[target]\n",
        "X_test = test[features]\n",
        "y_test = test[target]\n",
        "X_val = val[features]\n",
        "y_val = val[target]"
      ],
      "execution_count": 39,
      "outputs": []
    },
    {
      "cell_type": "code",
      "metadata": {
        "id": "haqeNA74J2Dc"
      },
      "source": [
        "# begin importing and running ML algorithms\n",
        "\n",
        "%%capture\n",
        "import sys\n",
        "\n",
        "!pip install category_encoders==2.*\n",
        "!pip install eli5\n",
        "!pip install pdpbox\n",
        "!pip install shap"
      ],
      "execution_count": 40,
      "outputs": []
    },
    {
      "cell_type": "code",
      "metadata": {
        "id": "0_1JRkbrKPty",
        "outputId": "478f2479-1477-4538-c683-032ce56ee7f5",
        "colab": {
          "base_uri": "https://localhost:8080/",
          "height": 72
        }
      },
      "source": [
        "import category_encoders as ce\n",
        "from sklearn.impute import SimpleImputer\n",
        "from sklearn.pipeline import make_pipeline\n",
        "from sklearn.preprocessing import StandardScaler\n",
        "from sklearn.linear_model import Ridge\n",
        "from sklearn.tree import DecisionTreeClassifier\n",
        "from sklearn.linear_model import LinearRegression\n",
        "from sklearn.ensemble import RandomForestRegressor\n",
        "from sklearn.metrics import r2_score"
      ],
      "execution_count": 41,
      "outputs": [
        {
          "output_type": "stream",
          "text": [
            "/usr/local/lib/python3.6/dist-packages/statsmodels/tools/_testing.py:19: FutureWarning: pandas.util.testing is deprecated. Use the functions in the public API at pandas.testing instead.\n",
            "  import pandas.util.testing as tm\n"
          ],
          "name": "stderr"
        }
      ]
    },
    {
      "cell_type": "code",
      "metadata": {
        "id": "e8K-3wkZKKO0",
        "outputId": "14361fa5-b444-4fed-ab7f-3c41a3fabf41",
        "colab": {
          "base_uri": "https://localhost:8080/",
          "height": 90
        }
      },
      "source": [
        "# Fit Linear Regression Model\n",
        "# Baseline\n",
        "lr = make_pipeline(\n",
        "    ce.TargetEncoder(),  \n",
        "    StandardScaler(),\n",
        "    LinearRegression()\n",
        ")\n",
        "\n",
        "lr.fit(X_train, y_train)\n",
        "print('Linear Regression R^2', lr.score(X_val, y_val))"
      ],
      "execution_count": 42,
      "outputs": [
        {
          "output_type": "stream",
          "text": [
            "Linear Regression R^2 -4.055226194657899\n"
          ],
          "name": "stdout"
        },
        {
          "output_type": "stream",
          "text": [
            "/usr/local/lib/python3.6/dist-packages/category_encoders/utils.py:21: FutureWarning: is_categorical is deprecated and will be removed in a future version.  Use is_categorical_dtype instead\n",
            "  elif pd.api.types.is_categorical(cols):\n"
          ],
          "name": "stderr"
        }
      ]
    },
    {
      "cell_type": "code",
      "metadata": {
        "id": "cUZmTU_xKm6M"
      },
      "source": [
        "from sklearn.linear_model import LinearRegression\n",
        "# Instantiate model class\n",
        "model = LinearRegression()"
      ],
      "execution_count": 43,
      "outputs": []
    },
    {
      "cell_type": "code",
      "metadata": {
        "id": "ZQNoDYHyKrFf",
        "outputId": "a6dd7265-8043-4468-964e-b4ac52ea0f98",
        "colab": {
          "base_uri": "https://localhost:8080/",
          "height": 34
        }
      },
      "source": [
        "# Random Forest Regression Model\n",
        "# Baseline\n",
        "pipeline = make_pipeline(\n",
        "    ce.OrdinalEncoder(), \n",
        "    SimpleImputer(strategy='median'), \n",
        "    RandomForestRegressor(n_estimators=100, random_state=42, n_jobs=-1)\n",
        ")\n",
        "\n",
        "# Fit on train, score on val\n",
        "pipeline.fit(X_train, y_train)\n",
        "print('Validation Accuracy', pipeline.score(X_val, y_val))"
      ],
      "execution_count": 44,
      "outputs": [
        {
          "output_type": "stream",
          "text": [
            "Validation Accuracy -0.014685035111711818\n"
          ],
          "name": "stdout"
        }
      ]
    },
    {
      "cell_type": "code",
      "metadata": {
        "id": "iY4dYJbTKrP1",
        "outputId": "99298706-6c34-4407-af31-00f508709668",
        "colab": {
          "base_uri": "https://localhost:8080/",
          "height": 72
        }
      },
      "source": [
        "# Instantiate one-hot encoder\n",
        "encoder = ce.OneHotEncoder()\n",
        "\n",
        "# Fit and transform on train/test sets\n",
        "X_train1 = encoder.fit_transform(X_train)\n",
        "X_test1 = encoder.transform(X_test)"
      ],
      "execution_count": 45,
      "outputs": [
        {
          "output_type": "stream",
          "text": [
            "/usr/local/lib/python3.6/dist-packages/category_encoders/utils.py:21: FutureWarning: is_categorical is deprecated and will be removed in a future version.  Use is_categorical_dtype instead\n",
            "  elif pd.api.types.is_categorical(cols):\n"
          ],
          "name": "stderr"
        }
      ]
    },
    {
      "cell_type": "code",
      "metadata": {
        "id": "rVwMSCm6KrW9"
      },
      "source": [
        "# Instantiate model class\n",
        "model = LinearRegression()\n",
        "# Fit the model\n",
        "model.fit(X_train1, y_train)\n",
        "# Apply the model to new data\n",
        "y_pred1 = model.predict(X_train1)\n",
        "y_pred2 = model.predict(X_test1)"
      ],
      "execution_count": 46,
      "outputs": []
    },
    {
      "cell_type": "code",
      "metadata": {
        "id": "Ma71PPqMKrbV",
        "outputId": "fc52abc2-4659-4f18-bb4d-aef6ec632c23",
        "colab": {
          "base_uri": "https://localhost:8080/",
          "height": 1000
        }
      },
      "source": [
        "# xgboost\n",
        "\n",
        "from xgboost import XGBRegressor\n",
        "\n",
        "# Instantiate and fit one-hot encoder\n",
        "encoder = ce.OneHotEncoder()\n",
        "X_train_encoded = encoder.fit_transform(X_train)\n",
        "X_test_encoded  = encoder.fit_transform(X_test)\n",
        "\n",
        "# Instantiate XGBRegressor and parameter tuning\n",
        "model = XGBRegressor(\n",
        "    n_estimators = 200,\n",
        "    max_depth=7,\n",
        "    learning_rate=0.5,\n",
        "    n_jobs=-1\n",
        ")\n",
        "# Instantiate eval_set\n",
        "eval_set = [(X_train_encoded, y_train), \n",
        "            (X_test_encoded, y_test)]\n",
        "\n",
        "# Fit model to the eval_set\n",
        "model.fit(X_train_encoded, y_train, \n",
        "          eval_set=eval_set, \n",
        "          eval_metric='mae', \n",
        "          early_stopping_rounds=1000)"
      ],
      "execution_count": 47,
      "outputs": [
        {
          "output_type": "stream",
          "text": [
            "[20:25:16] WARNING: /workspace/src/objective/regression_obj.cu:152: reg:linear is now deprecated in favor of reg:squarederror.\n",
            "[0]\tvalidation_0-mae:167.192\tvalidation_1-mae:230.498\n",
            "Multiple eval metrics have been passed: 'validation_1-mae' will be used for early stopping.\n",
            "\n",
            "Will train until validation_1-mae hasn't improved in 1000 rounds.\n",
            "[1]\tvalidation_0-mae:158.91\tvalidation_1-mae:245.488\n",
            "[2]\tvalidation_0-mae:150.627\tvalidation_1-mae:257.793\n",
            "[3]\tvalidation_0-mae:146.4\tvalidation_1-mae:267.258\n",
            "[4]\tvalidation_0-mae:139.928\tvalidation_1-mae:273.728\n",
            "[5]\tvalidation_0-mae:135.54\tvalidation_1-mae:279.463\n",
            "[6]\tvalidation_0-mae:133.517\tvalidation_1-mae:283.838\n",
            "[7]\tvalidation_0-mae:131.677\tvalidation_1-mae:287.868\n",
            "[8]\tvalidation_0-mae:127.428\tvalidation_1-mae:289.487\n",
            "[9]\tvalidation_0-mae:124.901\tvalidation_1-mae:292.181\n"
          ],
          "name": "stdout"
        },
        {
          "output_type": "stream",
          "text": [
            "/usr/local/lib/python3.6/dist-packages/category_encoders/utils.py:21: FutureWarning: is_categorical is deprecated and will be removed in a future version.  Use is_categorical_dtype instead\n",
            "  elif pd.api.types.is_categorical(cols):\n"
          ],
          "name": "stderr"
        },
        {
          "output_type": "stream",
          "text": [
            "[10]\tvalidation_0-mae:122.785\tvalidation_1-mae:293.982\n",
            "[11]\tvalidation_0-mae:120.169\tvalidation_1-mae:296.637\n",
            "[12]\tvalidation_0-mae:118.408\tvalidation_1-mae:298.803\n",
            "[13]\tvalidation_0-mae:117.219\tvalidation_1-mae:300.255\n",
            "[14]\tvalidation_0-mae:115.333\tvalidation_1-mae:300.986\n",
            "[15]\tvalidation_0-mae:113.461\tvalidation_1-mae:301.987\n",
            "[16]\tvalidation_0-mae:111.317\tvalidation_1-mae:304.15\n",
            "[17]\tvalidation_0-mae:109.133\tvalidation_1-mae:304.115\n",
            "[18]\tvalidation_0-mae:107.268\tvalidation_1-mae:305.416\n",
            "[19]\tvalidation_0-mae:106.176\tvalidation_1-mae:306.6\n",
            "[20]\tvalidation_0-mae:102.664\tvalidation_1-mae:306.169\n",
            "[21]\tvalidation_0-mae:101.865\tvalidation_1-mae:306.952\n",
            "[22]\tvalidation_0-mae:100.346\tvalidation_1-mae:307.867\n",
            "[23]\tvalidation_0-mae:98.0368\tvalidation_1-mae:307.905\n",
            "[24]\tvalidation_0-mae:96.0414\tvalidation_1-mae:308.897\n",
            "[25]\tvalidation_0-mae:95.3677\tvalidation_1-mae:309.451\n",
            "[26]\tvalidation_0-mae:93.4176\tvalidation_1-mae:310.549\n",
            "[27]\tvalidation_0-mae:91.6855\tvalidation_1-mae:311.394\n",
            "[28]\tvalidation_0-mae:89.9772\tvalidation_1-mae:312.241\n",
            "[29]\tvalidation_0-mae:89.4541\tvalidation_1-mae:312.696\n",
            "[30]\tvalidation_0-mae:88.7052\tvalidation_1-mae:313.28\n",
            "[31]\tvalidation_0-mae:88.3294\tvalidation_1-mae:313.672\n",
            "[32]\tvalidation_0-mae:87.3206\tvalidation_1-mae:314.392\n",
            "[33]\tvalidation_0-mae:87.0245\tvalidation_1-mae:314.586\n",
            "[34]\tvalidation_0-mae:86.3306\tvalidation_1-mae:315.016\n",
            "[35]\tvalidation_0-mae:85.074\tvalidation_1-mae:315.598\n",
            "[36]\tvalidation_0-mae:83.4364\tvalidation_1-mae:316.329\n",
            "[37]\tvalidation_0-mae:82.5189\tvalidation_1-mae:316.952\n",
            "[38]\tvalidation_0-mae:81.8844\tvalidation_1-mae:317.237\n",
            "[39]\tvalidation_0-mae:81.6099\tvalidation_1-mae:317.3\n",
            "[40]\tvalidation_0-mae:79.7725\tvalidation_1-mae:317.512\n",
            "[41]\tvalidation_0-mae:79.0188\tvalidation_1-mae:317.945\n",
            "[42]\tvalidation_0-mae:78.5513\tvalidation_1-mae:318.188\n",
            "[43]\tvalidation_0-mae:78.1451\tvalidation_1-mae:318.545\n",
            "[44]\tvalidation_0-mae:77.5448\tvalidation_1-mae:318.93\n",
            "[45]\tvalidation_0-mae:76.3717\tvalidation_1-mae:319.567\n",
            "[46]\tvalidation_0-mae:74.7115\tvalidation_1-mae:319.958\n",
            "[47]\tvalidation_0-mae:73.863\tvalidation_1-mae:320.457\n",
            "[48]\tvalidation_0-mae:72.7022\tvalidation_1-mae:320.782\n",
            "[49]\tvalidation_0-mae:71.2991\tvalidation_1-mae:320.802\n",
            "[50]\tvalidation_0-mae:70.6711\tvalidation_1-mae:321.076\n",
            "[51]\tvalidation_0-mae:70.3155\tvalidation_1-mae:321.274\n",
            "[52]\tvalidation_0-mae:69.423\tvalidation_1-mae:321.688\n",
            "[53]\tvalidation_0-mae:68.8867\tvalidation_1-mae:321.826\n",
            "[54]\tvalidation_0-mae:68.6253\tvalidation_1-mae:322.085\n",
            "[55]\tvalidation_0-mae:67.6094\tvalidation_1-mae:322.774\n",
            "[56]\tvalidation_0-mae:67.0627\tvalidation_1-mae:323.077\n",
            "[57]\tvalidation_0-mae:66.506\tvalidation_1-mae:323.244\n",
            "[58]\tvalidation_0-mae:66.2465\tvalidation_1-mae:323.334\n",
            "[59]\tvalidation_0-mae:65.0588\tvalidation_1-mae:323.193\n",
            "[60]\tvalidation_0-mae:64.0894\tvalidation_1-mae:322.874\n",
            "[61]\tvalidation_0-mae:63.8096\tvalidation_1-mae:323.043\n",
            "[62]\tvalidation_0-mae:63.4337\tvalidation_1-mae:323.237\n",
            "[63]\tvalidation_0-mae:63.2064\tvalidation_1-mae:323.478\n",
            "[64]\tvalidation_0-mae:62.5482\tvalidation_1-mae:323.772\n",
            "[65]\tvalidation_0-mae:61.9039\tvalidation_1-mae:324.202\n",
            "[66]\tvalidation_0-mae:61.5978\tvalidation_1-mae:324.442\n",
            "[67]\tvalidation_0-mae:60.9035\tvalidation_1-mae:324.625\n",
            "[68]\tvalidation_0-mae:60.3186\tvalidation_1-mae:324.942\n",
            "[69]\tvalidation_0-mae:59.7543\tvalidation_1-mae:325.08\n",
            "[70]\tvalidation_0-mae:59.1453\tvalidation_1-mae:325.546\n",
            "[71]\tvalidation_0-mae:58.9431\tvalidation_1-mae:325.733\n",
            "[72]\tvalidation_0-mae:58.6156\tvalidation_1-mae:325.797\n",
            "[73]\tvalidation_0-mae:57.9168\tvalidation_1-mae:325.921\n",
            "[74]\tvalidation_0-mae:57.5995\tvalidation_1-mae:326.064\n",
            "[75]\tvalidation_0-mae:56.9511\tvalidation_1-mae:326.411\n",
            "[76]\tvalidation_0-mae:56.483\tvalidation_1-mae:326.516\n",
            "[77]\tvalidation_0-mae:55.9149\tvalidation_1-mae:326.727\n",
            "[78]\tvalidation_0-mae:55.3181\tvalidation_1-mae:326.703\n",
            "[79]\tvalidation_0-mae:54.9985\tvalidation_1-mae:326.858\n",
            "[80]\tvalidation_0-mae:54.4028\tvalidation_1-mae:327.289\n",
            "[81]\tvalidation_0-mae:54.0822\tvalidation_1-mae:327.483\n",
            "[82]\tvalidation_0-mae:53.8287\tvalidation_1-mae:327.67\n",
            "[83]\tvalidation_0-mae:53.268\tvalidation_1-mae:327.73\n",
            "[84]\tvalidation_0-mae:53.1124\tvalidation_1-mae:327.818\n",
            "[85]\tvalidation_0-mae:52.8384\tvalidation_1-mae:327.972\n",
            "[86]\tvalidation_0-mae:52.7292\tvalidation_1-mae:327.993\n",
            "[87]\tvalidation_0-mae:52.4456\tvalidation_1-mae:328.058\n",
            "[88]\tvalidation_0-mae:52.205\tvalidation_1-mae:328.14\n",
            "[89]\tvalidation_0-mae:51.8694\tvalidation_1-mae:328.241\n",
            "[90]\tvalidation_0-mae:51.4753\tvalidation_1-mae:328.341\n",
            "[91]\tvalidation_0-mae:51.3495\tvalidation_1-mae:328.426\n",
            "[92]\tvalidation_0-mae:51.2134\tvalidation_1-mae:328.506\n",
            "[93]\tvalidation_0-mae:50.8791\tvalidation_1-mae:328.543\n",
            "[94]\tvalidation_0-mae:50.7613\tvalidation_1-mae:328.602\n",
            "[95]\tvalidation_0-mae:50.2113\tvalidation_1-mae:328.894\n",
            "[96]\tvalidation_0-mae:49.9476\tvalidation_1-mae:328.936\n",
            "[97]\tvalidation_0-mae:49.7308\tvalidation_1-mae:329.061\n",
            "[98]\tvalidation_0-mae:49.5504\tvalidation_1-mae:329.137\n",
            "[99]\tvalidation_0-mae:49.1902\tvalidation_1-mae:329.339\n",
            "[100]\tvalidation_0-mae:48.9774\tvalidation_1-mae:329.508\n",
            "[101]\tvalidation_0-mae:48.5637\tvalidation_1-mae:329.738\n",
            "[102]\tvalidation_0-mae:48.4132\tvalidation_1-mae:329.843\n",
            "[103]\tvalidation_0-mae:48.0475\tvalidation_1-mae:329.949\n",
            "[104]\tvalidation_0-mae:47.5611\tvalidation_1-mae:329.706\n",
            "[105]\tvalidation_0-mae:47.1171\tvalidation_1-mae:329.943\n",
            "[106]\tvalidation_0-mae:46.5428\tvalidation_1-mae:330.313\n",
            "[107]\tvalidation_0-mae:46.2856\tvalidation_1-mae:330.438\n",
            "[108]\tvalidation_0-mae:45.9714\tvalidation_1-mae:330.534\n",
            "[109]\tvalidation_0-mae:45.4257\tvalidation_1-mae:330.746\n",
            "[110]\tvalidation_0-mae:45.2989\tvalidation_1-mae:330.886\n",
            "[111]\tvalidation_0-mae:45.0689\tvalidation_1-mae:330.863\n",
            "[112]\tvalidation_0-mae:44.8545\tvalidation_1-mae:330.925\n",
            "[113]\tvalidation_0-mae:44.6284\tvalidation_1-mae:331.096\n",
            "[114]\tvalidation_0-mae:44.2177\tvalidation_1-mae:331.239\n",
            "[115]\tvalidation_0-mae:43.6979\tvalidation_1-mae:331.417\n",
            "[116]\tvalidation_0-mae:43.4224\tvalidation_1-mae:331.517\n",
            "[117]\tvalidation_0-mae:43.1787\tvalidation_1-mae:331.653\n",
            "[118]\tvalidation_0-mae:42.9296\tvalidation_1-mae:331.694\n",
            "[119]\tvalidation_0-mae:42.7719\tvalidation_1-mae:331.717\n",
            "[120]\tvalidation_0-mae:42.5196\tvalidation_1-mae:331.848\n",
            "[121]\tvalidation_0-mae:42.1337\tvalidation_1-mae:332.07\n",
            "[122]\tvalidation_0-mae:41.9506\tvalidation_1-mae:332.151\n",
            "[123]\tvalidation_0-mae:41.6701\tvalidation_1-mae:332.246\n",
            "[124]\tvalidation_0-mae:41.2405\tvalidation_1-mae:332.478\n",
            "[125]\tvalidation_0-mae:41.1359\tvalidation_1-mae:332.552\n",
            "[126]\tvalidation_0-mae:41.0853\tvalidation_1-mae:332.571\n",
            "[127]\tvalidation_0-mae:40.7948\tvalidation_1-mae:332.763\n",
            "[128]\tvalidation_0-mae:40.6538\tvalidation_1-mae:332.81\n",
            "[129]\tvalidation_0-mae:40.3818\tvalidation_1-mae:332.879\n",
            "[130]\tvalidation_0-mae:40.2821\tvalidation_1-mae:332.913\n",
            "[131]\tvalidation_0-mae:40.2449\tvalidation_1-mae:332.93\n",
            "[132]\tvalidation_0-mae:39.9839\tvalidation_1-mae:333.003\n",
            "[133]\tvalidation_0-mae:39.6983\tvalidation_1-mae:333.069\n",
            "[134]\tvalidation_0-mae:39.3556\tvalidation_1-mae:333.21\n",
            "[135]\tvalidation_0-mae:38.8396\tvalidation_1-mae:333.262\n",
            "[136]\tvalidation_0-mae:38.5031\tvalidation_1-mae:333.325\n",
            "[137]\tvalidation_0-mae:38.2196\tvalidation_1-mae:333.352\n",
            "[138]\tvalidation_0-mae:37.9425\tvalidation_1-mae:333.398\n",
            "[139]\tvalidation_0-mae:37.7705\tvalidation_1-mae:333.491\n",
            "[140]\tvalidation_0-mae:37.517\tvalidation_1-mae:333.693\n",
            "[141]\tvalidation_0-mae:37.259\tvalidation_1-mae:333.732\n",
            "[142]\tvalidation_0-mae:37.1045\tvalidation_1-mae:333.85\n",
            "[143]\tvalidation_0-mae:36.8899\tvalidation_1-mae:333.923\n",
            "[144]\tvalidation_0-mae:36.4175\tvalidation_1-mae:334.12\n",
            "[145]\tvalidation_0-mae:36.1193\tvalidation_1-mae:334.147\n",
            "[146]\tvalidation_0-mae:35.725\tvalidation_1-mae:334.345\n",
            "[147]\tvalidation_0-mae:35.528\tvalidation_1-mae:334.428\n",
            "[148]\tvalidation_0-mae:35.3991\tvalidation_1-mae:334.483\n",
            "[149]\tvalidation_0-mae:35.3517\tvalidation_1-mae:334.504\n",
            "[150]\tvalidation_0-mae:35.2118\tvalidation_1-mae:334.541\n",
            "[151]\tvalidation_0-mae:35.0334\tvalidation_1-mae:334.558\n",
            "[152]\tvalidation_0-mae:34.871\tvalidation_1-mae:334.649\n",
            "[153]\tvalidation_0-mae:34.6207\tvalidation_1-mae:334.743\n",
            "[154]\tvalidation_0-mae:34.2261\tvalidation_1-mae:334.815\n",
            "[155]\tvalidation_0-mae:34.0513\tvalidation_1-mae:334.823\n",
            "[156]\tvalidation_0-mae:33.7624\tvalidation_1-mae:334.926\n",
            "[157]\tvalidation_0-mae:33.5026\tvalidation_1-mae:335.088\n",
            "[158]\tvalidation_0-mae:33.3891\tvalidation_1-mae:335.142\n",
            "[159]\tvalidation_0-mae:33.2497\tvalidation_1-mae:335.188\n",
            "[160]\tvalidation_0-mae:33.081\tvalidation_1-mae:335.26\n",
            "[161]\tvalidation_0-mae:32.8353\tvalidation_1-mae:335.339\n",
            "[162]\tvalidation_0-mae:32.6649\tvalidation_1-mae:335.35\n",
            "[163]\tvalidation_0-mae:32.4405\tvalidation_1-mae:335.461\n",
            "[164]\tvalidation_0-mae:32.2716\tvalidation_1-mae:335.496\n",
            "[165]\tvalidation_0-mae:32.2001\tvalidation_1-mae:335.561\n",
            "[166]\tvalidation_0-mae:31.9767\tvalidation_1-mae:335.666\n",
            "[167]\tvalidation_0-mae:31.754\tvalidation_1-mae:335.763\n",
            "[168]\tvalidation_0-mae:31.6166\tvalidation_1-mae:335.801\n",
            "[169]\tvalidation_0-mae:31.4247\tvalidation_1-mae:335.86\n",
            "[170]\tvalidation_0-mae:31.2803\tvalidation_1-mae:335.989\n",
            "[171]\tvalidation_0-mae:31.0518\tvalidation_1-mae:336.03\n",
            "[172]\tvalidation_0-mae:31.0011\tvalidation_1-mae:336.059\n",
            "[173]\tvalidation_0-mae:30.8195\tvalidation_1-mae:336.082\n",
            "[174]\tvalidation_0-mae:30.5658\tvalidation_1-mae:336.152\n",
            "[175]\tvalidation_0-mae:30.3663\tvalidation_1-mae:336.186\n",
            "[176]\tvalidation_0-mae:30.2439\tvalidation_1-mae:336.282\n",
            "[177]\tvalidation_0-mae:30.0813\tvalidation_1-mae:336.302\n",
            "[178]\tvalidation_0-mae:29.8674\tvalidation_1-mae:336.355\n",
            "[179]\tvalidation_0-mae:29.5158\tvalidation_1-mae:336.533\n",
            "[180]\tvalidation_0-mae:29.1969\tvalidation_1-mae:336.645\n",
            "[181]\tvalidation_0-mae:29.0379\tvalidation_1-mae:336.722\n",
            "[182]\tvalidation_0-mae:28.8615\tvalidation_1-mae:336.756\n",
            "[183]\tvalidation_0-mae:28.61\tvalidation_1-mae:336.793\n",
            "[184]\tvalidation_0-mae:28.4998\tvalidation_1-mae:336.831\n",
            "[185]\tvalidation_0-mae:28.3744\tvalidation_1-mae:336.906\n",
            "[186]\tvalidation_0-mae:28.1484\tvalidation_1-mae:336.976\n",
            "[187]\tvalidation_0-mae:27.9684\tvalidation_1-mae:337.009\n",
            "[188]\tvalidation_0-mae:27.8442\tvalidation_1-mae:337.054\n",
            "[189]\tvalidation_0-mae:27.7385\tvalidation_1-mae:337.081\n",
            "[190]\tvalidation_0-mae:27.6336\tvalidation_1-mae:337.101\n",
            "[191]\tvalidation_0-mae:27.5137\tvalidation_1-mae:337.15\n",
            "[192]\tvalidation_0-mae:27.4304\tvalidation_1-mae:337.211\n",
            "[193]\tvalidation_0-mae:27.3547\tvalidation_1-mae:337.268\n",
            "[194]\tvalidation_0-mae:27.2764\tvalidation_1-mae:337.288\n",
            "[195]\tvalidation_0-mae:27.0185\tvalidation_1-mae:337.399\n",
            "[196]\tvalidation_0-mae:26.9302\tvalidation_1-mae:337.443\n",
            "[197]\tvalidation_0-mae:26.8899\tvalidation_1-mae:337.461\n",
            "[198]\tvalidation_0-mae:26.7581\tvalidation_1-mae:337.499\n",
            "[199]\tvalidation_0-mae:26.6437\tvalidation_1-mae:337.569\n"
          ],
          "name": "stdout"
        },
        {
          "output_type": "execute_result",
          "data": {
            "text/plain": [
              "XGBRegressor(base_score=0.5, booster='gbtree', colsample_bylevel=1,\n",
              "             colsample_bynode=1, colsample_bytree=1, gamma=0,\n",
              "             importance_type='gain', learning_rate=0.5, max_delta_step=0,\n",
              "             max_depth=7, min_child_weight=1, missing=None, n_estimators=200,\n",
              "             n_jobs=-1, nthread=None, objective='reg:linear', random_state=0,\n",
              "             reg_alpha=0, reg_lambda=1, scale_pos_weight=1, seed=None,\n",
              "             silent=None, subsample=1, verbosity=1)"
            ]
          },
          "metadata": {
            "tags": []
          },
          "execution_count": 47
        }
      ]
    },
    {
      "cell_type": "code",
      "metadata": {
        "id": "ySi0EiX4KriT",
        "outputId": "ab14a9a7-a9a9-4652-f2f2-5aee86c215c5",
        "colab": {
          "base_uri": "https://localhost:8080/",
          "height": 52
        }
      },
      "source": [
        "# Calculate r2 for the train and test data\n",
        "y_pred1 = model.predict(X_train_encoded)\n",
        "y_pred2 = model.predict(X_test_encoded)\n",
        "r2 = r2_score(train[target], y_pred1)\n",
        "print(f'The R2 of the training data is {r2}')\n",
        "r2 = r2_score(test[target], y_pred2)\n",
        "print(f'The R2 of the test data is {r2}')"
      ],
      "execution_count": 48,
      "outputs": [
        {
          "output_type": "stream",
          "text": [
            "The R2 of the training data is 0.3982574331580061\n",
            "The R2 of the test data is -0.5363649253865046\n"
          ],
          "name": "stdout"
        }
      ]
    },
    {
      "cell_type": "code",
      "metadata": {
        "id": "u4GEV3gxKrgY",
        "outputId": "c65856bd-9b14-48e4-eb21-38b6b8bea9dd",
        "colab": {
          "base_uri": "https://localhost:8080/",
          "height": 410
        }
      },
      "source": [
        "import eli5\n",
        "from eli5.sklearn import PermutationImportance\n",
        "# Instantiate permuter for XGBRegressor\n",
        "permuter = PermutationImportance(\n",
        "    model,\n",
        "    scoring='r2',\n",
        "    n_iter=5,\n",
        "    random_state=42\n",
        ")\n",
        "# Fit permuter to data from our model\n",
        "permuter.fit(X_train_encoded, y_train)"
      ],
      "execution_count": 49,
      "outputs": [
        {
          "output_type": "stream",
          "text": [
            "/usr/local/lib/python3.6/dist-packages/sklearn/utils/deprecation.py:144: FutureWarning: The sklearn.metrics.scorer module is  deprecated in version 0.22 and will be removed in version 0.24. The corresponding classes / functions should instead be imported from sklearn.metrics. Anything that cannot be imported from sklearn.metrics is now part of the private API.\n",
            "  warnings.warn(message, FutureWarning)\n",
            "/usr/local/lib/python3.6/dist-packages/sklearn/utils/deprecation.py:144: FutureWarning: The sklearn.feature_selection.base module is  deprecated in version 0.22 and will be removed in version 0.24. The corresponding classes / functions should instead be imported from sklearn.feature_selection. Anything that cannot be imported from sklearn.feature_selection is now part of the private API.\n",
            "  warnings.warn(message, FutureWarning)\n"
          ],
          "name": "stderr"
        },
        {
          "output_type": "execute_result",
          "data": {
            "text/plain": [
              "PermutationImportance(cv='prefit',\n",
              "                      estimator=XGBRegressor(base_score=0.5, booster='gbtree',\n",
              "                                             colsample_bylevel=1,\n",
              "                                             colsample_bynode=1,\n",
              "                                             colsample_bytree=1, gamma=0,\n",
              "                                             importance_type='gain',\n",
              "                                             learning_rate=0.5,\n",
              "                                             max_delta_step=0, max_depth=7,\n",
              "                                             min_child_weight=1, missing=None,\n",
              "                                             n_estimators=200, n_jobs=-1,\n",
              "                                             nthread=None,\n",
              "                                             objective='reg:linear',\n",
              "                                             random_state=0, reg_alpha=0,\n",
              "                                             reg_lambda=1, scale_pos_weight=1,\n",
              "                                             seed=None, silent=None,\n",
              "                                             subsample=1, verbosity=1),\n",
              "                      n_iter=5, random_state=42, refit=True, scoring='r2')"
            ]
          },
          "metadata": {
            "tags": []
          },
          "execution_count": 49
        }
      ]
    },
    {
      "cell_type": "code",
      "metadata": {
        "id": "vxlJV82ALLYn",
        "outputId": "eaf2d355-7e6b-4185-a6f9-391e13f0ff98",
        "colab": {
          "base_uri": "https://localhost:8080/",
          "height": 105
        }
      },
      "source": [
        "# Pull out top features and their importance\n",
        "feature_names = X_train_encoded.columns.tolist()\n",
        "pd.Series(permuter.feature_importances_, feature_names).sort_values()"
      ],
      "execution_count": 50,
      "outputs": [
        {
          "output_type": "execute_result",
          "data": {
            "text/plain": [
              "bonus                    0.001047\n",
              "Target/CG                0.001784\n",
              "last_12months_segment    0.006476\n",
              "handle                   0.456682\n",
              "dtype: float64"
            ]
          },
          "metadata": {
            "tags": []
          },
          "execution_count": 50
        }
      ]
    },
    {
      "cell_type": "code",
      "metadata": {
        "id": "bLkaLFKvWHUW",
        "outputId": "98cb2cdb-9611-4d11-e713-6b94251bb724",
        "colab": {
          "base_uri": "https://localhost:8080/",
          "height": 173
        }
      },
      "source": [
        "# Get feature importances\n",
        "rf = pipeline.named_steps['randomforestregressor']\n",
        "importances = pd.Series(rf.feature_importances_, X_train.columns)\n",
        "\n",
        "# Plot feature importances\n",
        "%matplotlib inline\n",
        "import matplotlib.pyplot as plt\n",
        "\n",
        "n = 4\n",
        "plt.figure(figsize=(10,n/2))\n",
        "plt.title(f'Top {n} features')\n",
        "importances.sort_values()[-n:].plot.barh(color='red');"
      ],
      "execution_count": 52,
      "outputs": [
        {
          "output_type": "display_data",
          "data": {
            "image/png": "[encoded data removed]",
            "text/plain": [
              "<Figure size 720x144 with 1 Axes>"
            ]
          },
          "metadata": {
            "tags": [],
            "needs_background": "light"
          }
        }
      ]
    },
    {
      "cell_type": "code",
      "metadata": {
        "id": "eCBQjIh7AyMQ"
      },
      "source": [
        "# as seen from above, it appears the amount of money aka the handle has much more\n",
        "# to do with gross revenue than any of the other two observed features\n",
        "\n",
        "# based on the data obtained above, I would absolutely run this promo again\n",
        "# it appears to be a success and the higher the handle, the bigger the revenue\n",
        "\n",
        "# I would consider running this promo again and with even higher handles because\n",
        "# based on the data, I believe the gross revenue would increase even more with\n",
        "# higher handles"
      ],
      "execution_count": 53,
      "outputs": []
    }
  ]
}